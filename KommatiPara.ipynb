{
  "nbformat": 4,
  "nbformat_minor": 0,
  "metadata": {
    "colab": {
      "provenance": []
    },
    "kernelspec": {
      "name": "python3",
      "display_name": "Python 3"
    },
    "language_info": {
      "name": "python"
    }
  },
  "cells": [
    {
      "cell_type": "code",
      "execution_count": 1,
      "metadata": {
        "colab": {
          "base_uri": "https://localhost:8080/"
        },
        "id": "UhGrHCehepuC",
        "outputId": "58064e8d-33a2-4604-ee01-8a06cd47a43c"
      },
      "outputs": [
        {
          "output_type": "stream",
          "name": "stdout",
          "text": [
            "Collecting pyspark\n",
            "  Downloading pyspark-3.4.1.tar.gz (310.8 MB)\n",
            "\u001b[2K     \u001b[90m━━━━━━━━━━━━━━━━━━━━━━━━━━━━━━━━━━━━━━━\u001b[0m \u001b[32m310.8/310.8 MB\u001b[0m \u001b[31m4.4 MB/s\u001b[0m eta \u001b[36m0:00:00\u001b[0m\n",
            "\u001b[?25h  Preparing metadata (setup.py) ... \u001b[?25l\u001b[?25hdone\n",
            "Requirement already satisfied: py4j==0.10.9.7 in /usr/local/lib/python3.10/dist-packages (from pyspark) (0.10.9.7)\n",
            "Building wheels for collected packages: pyspark\n",
            "  Building wheel for pyspark (setup.py) ... \u001b[?25l\u001b[?25hdone\n",
            "  Created wheel for pyspark: filename=pyspark-3.4.1-py2.py3-none-any.whl size=311285398 sha256=42ec5e55539b78f6acb933a7316c42b1e92f1b754fb5d581dc0085a9a5cbdd63\n",
            "  Stored in directory: /root/.cache/pip/wheels/0d/77/a3/ff2f74cc9ab41f8f594dabf0579c2a7c6de920d584206e0834\n",
            "Successfully built pyspark\n",
            "Installing collected packages: pyspark\n",
            "Successfully installed pyspark-3.4.1\n"
          ]
        }
      ],
      "source": [
        "!pip install pyspark"
      ]
    },
    {
      "cell_type": "code",
      "source": [
        "!pip install spark"
      ],
      "metadata": {
        "colab": {
          "base_uri": "https://localhost:8080/"
        },
        "id": "L6OcmNyXfW6S",
        "outputId": "30eb19b0-89c6-40d1-8969-24b596457e41"
      },
      "execution_count": 2,
      "outputs": [
        {
          "output_type": "stream",
          "name": "stdout",
          "text": [
            "Collecting spark\n",
            "  Downloading spark-0.2.1.tar.gz (41 kB)\n",
            "\u001b[?25l     \u001b[90m━━━━━━━━━━━━━━━━━━━━━━━━━━━━━━━━━━━━━━━━\u001b[0m \u001b[32m0.0/41.0 kB\u001b[0m \u001b[31m?\u001b[0m eta \u001b[36m-:--:--\u001b[0m\r\u001b[2K     \u001b[90m━━━━━━━━━━━━━━━━━━━━━━━━━━━━━━━━━━━━━━━━\u001b[0m \u001b[32m41.0/41.0 kB\u001b[0m \u001b[31m3.0 MB/s\u001b[0m eta \u001b[36m0:00:00\u001b[0m\n",
            "\u001b[?25h  Preparing metadata (setup.py) ... \u001b[?25l\u001b[?25hdone\n",
            "Building wheels for collected packages: spark\n",
            "  Building wheel for spark (setup.py) ... \u001b[?25l\u001b[?25hdone\n",
            "  Created wheel for spark: filename=spark-0.2.1-py3-none-any.whl size=58747 sha256=4fd7ed140ae0cafb502b2d8cc5c834e0442e0099a6442413820fcb603f0c0051\n",
            "  Stored in directory: /root/.cache/pip/wheels/63/88/77/b4131110ea4094540f7b47c6d62a649807d7e94800da5eab0b\n",
            "Successfully built spark\n",
            "Installing collected packages: spark\n",
            "Successfully installed spark-0.2.1\n"
          ]
        }
      ]
    },
    {
      "cell_type": "code",
      "source": [
        "from pyspark.sql.functions import *\n",
        "from pyspark.sql.types import *\n",
        "from pyspark.sql import *\n",
        "from datetime import date, datetime\n",
        "import spark"
      ],
      "metadata": {
        "id": "Ln7Ct3Fhfx6H"
      },
      "execution_count": 22,
      "outputs": []
    },
    {
      "cell_type": "code",
      "source": [
        "from pyspark.sql import SparkSession\n",
        "spark = SparkSession.builder.appName(\"MyApp\").getOrCreate()"
      ],
      "metadata": {
        "id": "qqusHt6fSqxD"
      },
      "execution_count": 28,
      "outputs": []
    },
    {
      "cell_type": "code",
      "source": [
        "def log(log_date,error_desc, log_text, row_count):\n",
        "  schema= StructType([StructField(\"log_date\",StringType(),True),\n",
        "                      StructField(\"status\",StringType(), True),\n",
        "                      StructField(\"log_text\", StringType(), True),\n",
        "                      StructField(\"row_count\",IntegerType(), True),\n",
        "  ])\n",
        "  success_list =[(log_date,error_desc,log_text,row_count)]\n",
        "  logdf = spark.createDataFrame(success_list,schema)\n",
        "  current_date = str(date.today())\n",
        "  current_timestamp = str(datetime.strftime(datetime.now(),\"%Y%m%d%H%M%S\"))\n",
        "  #logdf.show()\n",
        "  logdf.coalesce(1).write.mode('append').csv('/content/logfile.csv')"
      ],
      "metadata": {
        "id": "YrefOyPHp1KN"
      },
      "execution_count": 30,
      "outputs": []
    },
    {
      "cell_type": "code",
      "source": [
        "#log(datetime.now().strftime(\"%Y-%m-%d %H:%M:%S\"),'Success','Data read test',1)"
      ],
      "metadata": {
        "colab": {
          "base_uri": "https://localhost:8080/",
          "height": 34
        },
        "id": "kN9i24TXt0L9",
        "outputId": "e3d8be4d-06b6-4dae-c272-75a2a95e5544"
      },
      "execution_count": 34,
      "outputs": [
        {
          "output_type": "display_data",
          "data": {
            "text/plain": [
              "DataFrame[log_date: string, status: string, log_text: string, row_count: int]"
            ]
          },
          "metadata": {}
        }
      ]
    },
    {
      "cell_type": "code",
      "source": [
        "logdata = spark.read.csv('/content/logfile.csv')\n",
        "logdata.show()"
      ],
      "metadata": {
        "colab": {
          "base_uri": "https://localhost:8080/"
        },
        "id": "y9FirN0Wwatg",
        "outputId": "e914ba1f-662c-4656-d4ee-158b60b7cad0"
      },
      "execution_count": 64,
      "outputs": [
        {
          "output_type": "stream",
          "name": "stdout",
          "text": [
            "+-------------------+-------+--------------------+----+\n",
            "|                _c0|    _c1|                 _c2| _c3|\n",
            "+-------------------+-------+--------------------+----+\n",
            "|2023-07-10 08:24:03|Success|Dataset 1 filtere...| 500|\n",
            "|2023-07-10 07:43:07|Success|Dataset 2 read su...|1000|\n",
            "|2023-07-10 07:43:05|Success|Dataset 1 read su...|1000|\n",
            "|2023-07-10 08:27:36|Success|   Rename successful|   1|\n",
            "|2023-07-10 08:27:12|Success|   Rename successful|   1|\n",
            "|2023-07-10 07:40:24|Success|      Data read test|   1|\n",
            "|2023-07-10 07:40:42|Success|      Data read test|   1|\n",
            "+-------------------+-------+--------------------+----+\n",
            "\n"
          ]
        }
      ]
    },
    {
      "cell_type": "code",
      "source": [
        "# three parameters as per requirement\n",
        "# parameters can be passed through dbutils\n",
        "\n",
        "# dbutils.widgets.text('ds1path')\n",
        "# ds1_path = dbutils.widgets.get('ds1path)\n",
        "ds1_path='/content/dataset_one.csv'\n",
        "ds2_path='/content/dataset_two.csv'\n",
        "country_names = ['United Kingdom', 'Netherlands']"
      ],
      "metadata": {
        "id": "X68gpAH6jnvQ"
      },
      "execution_count": 31,
      "outputs": []
    },
    {
      "cell_type": "code",
      "source": [
        "# Read dataset_one and dataset_two based on the paths provided\n",
        "\n",
        "try:\n",
        "  ds1 = spark.read.csv(ds1_path, header=True)\n",
        "  ds1.show()\n",
        "  # ds1 has country\n",
        "  ds2 = spark.read.csv(ds2_path, header=True)\n",
        "  ds2.show()\n",
        "  # ds2 financial details\n",
        "  log(datetime.now().strftime(\"%Y-%m-%d %H:%M:%S\"),'Success','Dataset 1 read successful',ds1.count())\n",
        "  log(datetime.now().strftime(\"%Y-%m-%d %H:%M:%S\"),'Success','Dataset 2 read successful',ds2.count())\n",
        "except Exception as e:\n",
        "  log(datetime.now().strftime(\"%Y-%m-%d %H:%M:%S\"),'Failed',e.args,0)\n",
        ""
      ],
      "metadata": {
        "colab": {
          "base_uri": "https://localhost:8080/",
          "height": 955
        },
        "id": "EydCS2fmkKRr",
        "outputId": "61d4a60b-6656-4ab9-db1a-f4fea6da86ee"
      },
      "execution_count": 35,
      "outputs": [
        {
          "output_type": "stream",
          "name": "stdout",
          "text": [
            "+---+----------+----------+--------------------+--------------+\n",
            "| id|first_name| last_name|               email|       country|\n",
            "+---+----------+----------+--------------------+--------------+\n",
            "|  1|    Feliza|    Eusden|  feusden0@ameblo.jp|        France|\n",
            "|  2| Priscilla|   Le Pine|plepine1@biglobe....|        France|\n",
            "|  3|    Jaimie|    Sandes|jsandes2@reuters.com|        France|\n",
            "|  4|      Nari|   Dolphin|ndolphin3@cbsloca...|        France|\n",
            "|  5|     Garik|     Farre|gfarre4@economist...|        France|\n",
            "|  6|   Kordula|   Broodes| kbroodes5@amazon.de|        France|\n",
            "|  7|     Rakel|   Ingliby|    ringliby6@ft.com| United States|\n",
            "|  8|      Derk| Mattielli|dmattielli7@slide...| United States|\n",
            "|  9|    Karrah|   Boshard|   kboshard8@ihg.com|        France|\n",
            "| 10| Friedrich|  Kreutzer|fkreutzer9@busine...|        France|\n",
            "| 11|      Conn|   Claiden| cclaidena@vimeo.com|        France|\n",
            "| 12|     Karel|   Crippin| kcrippinb@google.pl|        France|\n",
            "| 13| Millisent|     Joint| mjointc@state.tx.us|        France|\n",
            "| 14|   Valeria|McCloughen| vmccloughend@gov.uk|        France|\n",
            "| 15|   Monique|  Bernardo|mbernardoe@scient...| United States|\n",
            "| 16|    Callie|    d'Arcy|cdarcyf@people.co...| United States|\n",
            "| 17|   Demetri|Bridgwater|dbridgwaterg@youk...| United States|\n",
            "| 18|   Richard|    Drinan|rdrinanh@odnoklas...|United Kingdom|\n",
            "| 19|    Benjie|  Stuttman|bstuttmani@cpanel...| United States|\n",
            "| 20|  Claresta|Martinetto|cmartinettoj@mapy.cz|        France|\n",
            "+---+----------+----------+--------------------+--------------+\n",
            "only showing top 20 rows\n",
            "\n",
            "+---+--------------------+--------------------+------------------+\n",
            "| id|               btc_a|                cc_t|              cc_n|\n",
            "+---+--------------------+--------------------+------------------+\n",
            "|  1|1wjtPamAZeGhRnZfh...|       visa-electron|  4175006996999270|\n",
            "|  2|1Js9BA1rV31hJFmN2...|                 jcb|  3587679584356527|\n",
            "|  3|1CoG9ciLQVQCnia5o...| diners-club-enroute|   201876885481838|\n",
            "|  4|1GNvinVKGzPBVNZSc...|              switch|564182038040530730|\n",
            "|  5|1DHTzZ7ypu3EzWtLB...|                 jcb|  3555559025151828|\n",
            "|  6|1LWktvit3XBCJNrsj...|                 jcb|  3580083825272493|\n",
            "|  7|1J71SRGqUjhqPuHaZ...|              switch|491193585665108260|\n",
            "|  8|1Q5FAwgXbhRxP1uYp...|          mastercard|  5100174550682620|\n",
            "|  9|1QKy8RoeWR48nrwkn...|diners-club-carte...|    30343863921001|\n",
            "| 10|1NRDQBCtuDqm8Qomr...|diners-club-carte...|    30559612937267|\n",
            "| 11|1HcqQ5Ys77sJm3ZJv...|                visa|     4937793997478|\n",
            "| 12|1EncEr6Vd5ywk96un...|                 jcb|  3569513122126013|\n",
            "| 13|14bMXV3h1S6KxGHde...|                 jcb|  3537645802098952|\n",
            "| 14|1Gi1ZJsBDqCztVjtc...|            bankcard|  5602232103395992|\n",
            "| 15|1GnNjsnbBTw6w9WHn...|                 jcb|  3558941392668773|\n",
            "| 16|17y4HG6vY9wDZmeu5...|                 jcb|  3579496825654275|\n",
            "| 17|14reD6Z1kUjg8QC5Y...|                 jcb|  3563252716889142|\n",
            "| 18|1ErM8yuF3ytzzxLy1...|      china-unionpay| 56022230876188334|\n",
            "| 19|1FeH4KecDLZYXEcAu...|          mastercard|  5100176279014886|\n",
            "| 20|14iPptCE59bQXGocz...|                 jcb|  3531510529019283|\n",
            "+---+--------------------+--------------------+------------------+\n",
            "only showing top 20 rows\n",
            "\n"
          ]
        },
        {
          "output_type": "display_data",
          "data": {
            "text/plain": [
              "DataFrame[log_date: string, status: string, log_text: string, row_count: int]"
            ]
          },
          "metadata": {}
        },
        {
          "output_type": "display_data",
          "data": {
            "text/plain": [
              "DataFrame[log_date: string, status: string, log_text: string, row_count: int]"
            ]
          },
          "metadata": {}
        }
      ]
    },
    {
      "cell_type": "code",
      "source": [
        "# generic function to filter based on country or list of countries\n",
        "\n",
        "def to_filter(df, country_name):\n",
        "  df_filtered = df.filter(df['country'].contains(country_name))\n",
        "  return df_filtered\n",
        "\n"
      ],
      "metadata": {
        "id": "V2qsxNa6K1DJ"
      },
      "execution_count": 51,
      "outputs": []
    },
    {
      "cell_type": "code",
      "source": [
        "# generic function to rename column name to be readable\n",
        "\n",
        "def rename(df,old_name,new_name):\n",
        "  df_renamed = df.withColumnRenamed(old_name,new_name)\n",
        "  return df_renamed\n"
      ],
      "metadata": {
        "id": "WlrCXP-fGvNr"
      },
      "execution_count": 38,
      "outputs": []
    },
    {
      "cell_type": "code",
      "source": [
        "t = ds1.filter(ds1['id']=='0')\n",
        "t.show()"
      ],
      "metadata": {
        "colab": {
          "base_uri": "https://localhost:8080/"
        },
        "id": "UV1MjP3M2kKm",
        "outputId": "508a9537-a55e-4723-d138-b037dc006d69"
      },
      "execution_count": 48,
      "outputs": [
        {
          "output_type": "stream",
          "name": "stdout",
          "text": [
            "+---+----------+---------+-----+-------+\n",
            "| id|first_name|last_name|email|country|\n",
            "+---+----------+---------+-----+-------+\n",
            "+---+----------+---------+-----+-------+\n",
            "\n"
          ]
        }
      ]
    },
    {
      "cell_type": "code",
      "source": [
        "try:\n",
        "  for country in country_names:\n",
        "    print(country)\n",
        "    f = to_filter(ds1, country)\n",
        "    f.show()\n",
        "    t = t.union(f)\n",
        "  t.show()\n",
        "  log(datetime.now().strftime(\"%Y-%m-%d %H:%M:%S\"),'Success','Dataset 1 filtered on country successful',t.count())\n",
        "except Exception as e:\n",
        "  log(datetime.now().strftime(\"%Y-%m-%d %H:%M:%S\"),'Failed',e.args,0)"
      ],
      "metadata": {
        "colab": {
          "base_uri": "https://localhost:8080/",
          "height": 1000
        },
        "id": "KgggbU0n1Ubu",
        "outputId": "42ad2c19-288d-47d2-8ca1-746fd8d9d208"
      },
      "execution_count": 61,
      "outputs": [
        {
          "output_type": "stream",
          "name": "stdout",
          "text": [
            "United Kingdom\n",
            "+---+----------+-----------------+--------------------+--------------+\n",
            "| id|first_name|        last_name|               email|       country|\n",
            "+---+----------+-----------------+--------------------+--------------+\n",
            "| 18|   Richard|           Drinan|rdrinanh@odnoklas...|United Kingdom|\n",
            "| 32|    Wallis|          Bamford|wbamfordv@t-onlin...|United Kingdom|\n",
            "| 33|   Saundra|          Westall|swestallw@blinkli...|United Kingdom|\n",
            "| 34|     Ewart|        Rosengren|erosengrenx@usato...|United Kingdom|\n",
            "| 67|     Lorry|          Beavors|lbeavors1u@techno...|United Kingdom|\n",
            "| 70|  Freedman|           Dresse|fdresse1x@bloglin...|United Kingdom|\n",
            "| 91|      Audy|           Eplate|aeplate2i@webeden...|United Kingdom|\n",
            "|177|   Alfredo|          Wissbey|awissbey4w@geocit...|United Kingdom|\n",
            "|197|    Penrod|          Volette|  pvolette5g@ask.com|United Kingdom|\n",
            "|199|   Ermanno|         Surcombe|esurcombe5i@bigca...|United Kingdom|\n",
            "|294|    Lindie|         MacAskie|lmacaskie85@sina....|United Kingdom|\n",
            "|329|     Morna|            Nurny|  mnurny94@wikia.com|United Kingdom|\n",
            "|345|   Thedric|           Costen|   tcosten9k@unc.edu|United Kingdom|\n",
            "|390|  Latashia|            Blyde| lblydeat@senate.gov|United Kingdom|\n",
            "|414|  Jessalin|          Gammons|jgammonsbh@goo.ne.jp|United Kingdom|\n",
            "|482|     Vevay|           Claris|   vclarisdd@aol.com|United Kingdom|\n",
            "|508|   Cecilio|      Saltsberger|csaltsbergere3@ne...|United Kingdom|\n",
            "|548|     Lissy|Featherstonehaugh|lfeatherstonehaug...|United Kingdom|\n",
            "|582|   Loralyn|          Sneezum|lsneezumg5@virgin...|United Kingdom|\n",
            "|601|      Poul|            Kyncl|pkynclgo@miibeian...|United Kingdom|\n",
            "+---+----------+-----------------+--------------------+--------------+\n",
            "only showing top 20 rows\n",
            "\n",
            "Netherlands\n",
            "+---+----------+------------+--------------------+-----------+\n",
            "| id|first_name|   last_name|               email|    country|\n",
            "+---+----------+------------+--------------------+-----------+\n",
            "| 36|    Daniel|   Buckthorp|dbuckthorpz@tmall...|Netherlands|\n",
            "| 62|      Boyd|      Barham|  bbarham1p@wisc.edu|Netherlands|\n",
            "|105|     Lacie|     Infante|linfante2w@telegr...|Netherlands|\n",
            "|108|   Rhianna|     Partkya|  rpartkya2z@cdc.gov|Netherlands|\n",
            "|109|    Marnia|        Dory|    mdory30@uiuc.edu|Netherlands|\n",
            "|110|     Rhody|     Swindle|rswindle31@tmall.com|Netherlands|\n",
            "|124|       Wyn|       Darco|wdarco3f@geocitie...|Netherlands|\n",
            "|128|      Vito|    Napthine|vnapthine3j@ning.com|Netherlands|\n",
            "|165|     Hilda|    Heinecke|hheinecke4k@alter...|Netherlands|\n",
            "|189|    Eduard|        Tsar|     etsar58@ovh.net|Netherlands|\n",
            "|194|     Irena|     Greated| igreated5d@live.com|Netherlands|\n",
            "|239| Hollyanne|      Golley|hgolley6m@nydaily...|Netherlands|\n",
            "|248|    Mattie|      Brewer|mbrewer6v@faceboo...|Netherlands|\n",
            "|255|     Janie|     Knowler|  jknowler72@nba.com|Netherlands|\n",
            "|293|       Lia|     Ropartz|lropartz84@meetup...|Netherlands|\n",
            "|296|    Hermia|     Mc Pake|hmcpake87@bravesi...|Netherlands|\n",
            "|299|       Ced|     Antunez|cantunez8a@bookin...|Netherlands|\n",
            "|326|    Carlye|       Alred|    calred91@ted.com|Netherlands|\n",
            "|354|    Willow| Ochterlonie|wochterlonie9t@eb...|Netherlands|\n",
            "|360|     Blair|De Beauchemp|bdebeauchemp9z@im...|Netherlands|\n",
            "+---+----------+------------+--------------------+-----------+\n",
            "only showing top 20 rows\n",
            "\n",
            "+---+----------+-----------------+--------------------+--------------+\n",
            "| id|first_name|        last_name|               email|       country|\n",
            "+---+----------+-----------------+--------------------+--------------+\n",
            "| 18|   Richard|           Drinan|rdrinanh@odnoklas...|United Kingdom|\n",
            "| 32|    Wallis|          Bamford|wbamfordv@t-onlin...|United Kingdom|\n",
            "| 33|   Saundra|          Westall|swestallw@blinkli...|United Kingdom|\n",
            "| 34|     Ewart|        Rosengren|erosengrenx@usato...|United Kingdom|\n",
            "| 67|     Lorry|          Beavors|lbeavors1u@techno...|United Kingdom|\n",
            "| 70|  Freedman|           Dresse|fdresse1x@bloglin...|United Kingdom|\n",
            "| 91|      Audy|           Eplate|aeplate2i@webeden...|United Kingdom|\n",
            "|177|   Alfredo|          Wissbey|awissbey4w@geocit...|United Kingdom|\n",
            "|197|    Penrod|          Volette|  pvolette5g@ask.com|United Kingdom|\n",
            "|199|   Ermanno|         Surcombe|esurcombe5i@bigca...|United Kingdom|\n",
            "|294|    Lindie|         MacAskie|lmacaskie85@sina....|United Kingdom|\n",
            "|329|     Morna|            Nurny|  mnurny94@wikia.com|United Kingdom|\n",
            "|345|   Thedric|           Costen|   tcosten9k@unc.edu|United Kingdom|\n",
            "|390|  Latashia|            Blyde| lblydeat@senate.gov|United Kingdom|\n",
            "|414|  Jessalin|          Gammons|jgammonsbh@goo.ne.jp|United Kingdom|\n",
            "|482|     Vevay|           Claris|   vclarisdd@aol.com|United Kingdom|\n",
            "|508|   Cecilio|      Saltsberger|csaltsbergere3@ne...|United Kingdom|\n",
            "|548|     Lissy|Featherstonehaugh|lfeatherstonehaug...|United Kingdom|\n",
            "|582|   Loralyn|          Sneezum|lsneezumg5@virgin...|United Kingdom|\n",
            "|601|      Poul|            Kyncl|pkynclgo@miibeian...|United Kingdom|\n",
            "+---+----------+-----------------+--------------------+--------------+\n",
            "only showing top 20 rows\n",
            "\n"
          ]
        },
        {
          "output_type": "display_data",
          "data": {
            "text/plain": [
              "DataFrame[log_date: string, status: string, log_text: string, row_count: int]"
            ]
          },
          "metadata": {}
        }
      ]
    },
    {
      "cell_type": "code",
      "source": [
        "# datasets joined on id column - type: inner\n",
        "# ds is joined dataset with filtered dataset one\n",
        "try:\n",
        "  ds = t.join(ds2, how='inner', on='id')\n",
        "  ds.show()\n",
        "  log(datetime.now().strftime(\"%Y-%m-%d %H:%M:%S\"),'Success','Join successful',ds.count())\n",
        "except Exception as e:\n",
        "  log(datetime.now().strftime(\"%Y-%m-%d %H:%M:%S\"),'Failed',e.args,0)"
      ],
      "metadata": {
        "colab": {
          "base_uri": "https://localhost:8080/"
        },
        "id": "6Gd1q7TuBLLE",
        "outputId": "f7f8e58d-02af-46c2-dc88-e015c010957e"
      },
      "execution_count": 60,
      "outputs": [
        {
          "output_type": "stream",
          "name": "stdout",
          "text": [
            "+---+----------+-----------------+--------------------+--------------+--------------------+--------------------+------------------+\n",
            "| id|first_name|        last_name|               email|       country|               btc_a|                cc_t|              cc_n|\n",
            "+---+----------+-----------------+--------------------+--------------+--------------------+--------------------+------------------+\n",
            "| 18|   Richard|           Drinan|rdrinanh@odnoklas...|United Kingdom|1ErM8yuF3ytzzxLy1...|      china-unionpay| 56022230876188334|\n",
            "| 32|    Wallis|          Bamford|wbamfordv@t-onlin...|United Kingdom|12sxmYnPcADAXw1Yk...|             maestro| 50387077934280351|\n",
            "| 33|   Saundra|          Westall|swestallw@blinkli...|United Kingdom|1GZ7QB7GUFSWnkBHm...|          mastercard|  5363176326162847|\n",
            "| 34|     Ewart|        Rosengren|erosengrenx@usato...|United Kingdom|12o8zrHx6snCPbtko...|       visa-electron|  4175005704373695|\n",
            "| 67|     Lorry|          Beavors|lbeavors1u@techno...|United Kingdom|12ya1ED93ApPBQRSC...|            bankcard|  5602221992817208|\n",
            "| 70|  Freedman|           Dresse|fdresse1x@bloglin...|United Kingdom|1F8zXTEaf4AFpztMN...|          mastercard|  5002358263037300|\n",
            "| 91|      Audy|           Eplate|aeplate2i@webeden...|United Kingdom|19MZSy1H8S4SaXsmS...|diners-club-carte...|    30305687886181|\n",
            "|177|   Alfredo|          Wissbey|awissbey4w@geocit...|United Kingdom|1AJzqEgbbFh2TNLFZ...|     americanexpress|   374622279517220|\n",
            "|197|    Penrod|          Volette|  pvolette5g@ask.com|United Kingdom|1Q6UV84patYXfzEdA...| diners-club-enroute|   201687716411559|\n",
            "|199|   Ermanno|         Surcombe|esurcombe5i@bigca...|United Kingdom|1GYuD7hkkRkCeVcx9...|                 jcb|  3573608384214319|\n",
            "|294|    Lindie|         MacAskie|lmacaskie85@sina....|United Kingdom|1DNGHS7oy3K38Anzd...|             maestro| 67612873266111276|\n",
            "|329|     Morna|            Nurny|  mnurny94@wikia.com|United Kingdom|18nNxGMaqhqrt4sZs...|                solo|633485725371257407|\n",
            "|345|   Thedric|           Costen|   tcosten9k@unc.edu|United Kingdom|17AGnU1HVmvAt8gwZ...|                 jcb|  3529003303335087|\n",
            "|390|  Latashia|            Blyde| lblydeat@senate.gov|United Kingdom|1FpFASo8TTHYuefzy...|                 jcb|  3547248774351349|\n",
            "|414|  Jessalin|          Gammons|jgammonsbh@goo.ne.jp|United Kingdom|14mRf7cFYsFjerWYs...|                 jcb|  3551724694519119|\n",
            "|482|     Vevay|           Claris|   vclarisdd@aol.com|United Kingdom|1477584qcLw6e2Tnt...|       visa-electron|  4405875597637592|\n",
            "|508|   Cecilio|      Saltsberger|csaltsbergere3@ne...|United Kingdom|1N4UFev4krTiWmC1S...|              switch|675954161233512792|\n",
            "|548|     Lissy|Featherstonehaugh|lfeatherstonehaug...|United Kingdom|1482bkXGupDD66ypo...|              switch|  5641828546046549|\n",
            "|582|   Loralyn|          Sneezum|lsneezumg5@virgin...|United Kingdom|18rq3Gymm7G1gaSLa...|          mastercard|  5302169147139056|\n",
            "|601|      Poul|            Kyncl|pkynclgo@miibeian...|United Kingdom|14GghoTqBDngp1V9P...|                 jcb|  3573360303922594|\n",
            "+---+----------+-----------------+--------------------+--------------+--------------------+--------------------+------------------+\n",
            "only showing top 20 rows\n",
            "\n"
          ]
        }
      ]
    },
    {
      "cell_type": "code",
      "source": [
        "# renaming columns\n",
        "\n",
        "try:\n",
        "  r1=rename(ds,'btc_a','bitcoin_address')\n",
        "  r2=rename(r1,'cc_t','credit_card_type')\n",
        "  r3=rename(r2,'cc_n','credit_card_number')\n",
        "  r3.show()\n",
        "  log(datetime.now().strftime(\"%Y-%m-%d %H:%M:%S\"),'Success','Rename successful',1)\n",
        "except Exception as e:\n",
        "  log(datetime.now().strftime(\"%Y-%m-%d %H:%M:%S\"),'Failed',e.args,0)\n"
      ],
      "metadata": {
        "colab": {
          "base_uri": "https://localhost:8080/",
          "height": 486
        },
        "id": "teckxxcjHurI",
        "outputId": "48f59643-4adc-4963-c657-cbc820e31d5f"
      },
      "execution_count": 63,
      "outputs": [
        {
          "output_type": "stream",
          "name": "stdout",
          "text": [
            "+---+----------+-----------------+--------------------+--------------+--------------------+--------------------+------------------+\n",
            "| id|first_name|        last_name|               email|       country|     bitcoin_address|    credit_card_type|credit_card_number|\n",
            "+---+----------+-----------------+--------------------+--------------+--------------------+--------------------+------------------+\n",
            "| 18|   Richard|           Drinan|rdrinanh@odnoklas...|United Kingdom|1ErM8yuF3ytzzxLy1...|      china-unionpay| 56022230876188334|\n",
            "| 32|    Wallis|          Bamford|wbamfordv@t-onlin...|United Kingdom|12sxmYnPcADAXw1Yk...|             maestro| 50387077934280351|\n",
            "| 33|   Saundra|          Westall|swestallw@blinkli...|United Kingdom|1GZ7QB7GUFSWnkBHm...|          mastercard|  5363176326162847|\n",
            "| 34|     Ewart|        Rosengren|erosengrenx@usato...|United Kingdom|12o8zrHx6snCPbtko...|       visa-electron|  4175005704373695|\n",
            "| 67|     Lorry|          Beavors|lbeavors1u@techno...|United Kingdom|12ya1ED93ApPBQRSC...|            bankcard|  5602221992817208|\n",
            "| 70|  Freedman|           Dresse|fdresse1x@bloglin...|United Kingdom|1F8zXTEaf4AFpztMN...|          mastercard|  5002358263037300|\n",
            "| 91|      Audy|           Eplate|aeplate2i@webeden...|United Kingdom|19MZSy1H8S4SaXsmS...|diners-club-carte...|    30305687886181|\n",
            "|177|   Alfredo|          Wissbey|awissbey4w@geocit...|United Kingdom|1AJzqEgbbFh2TNLFZ...|     americanexpress|   374622279517220|\n",
            "|197|    Penrod|          Volette|  pvolette5g@ask.com|United Kingdom|1Q6UV84patYXfzEdA...| diners-club-enroute|   201687716411559|\n",
            "|199|   Ermanno|         Surcombe|esurcombe5i@bigca...|United Kingdom|1GYuD7hkkRkCeVcx9...|                 jcb|  3573608384214319|\n",
            "|294|    Lindie|         MacAskie|lmacaskie85@sina....|United Kingdom|1DNGHS7oy3K38Anzd...|             maestro| 67612873266111276|\n",
            "|329|     Morna|            Nurny|  mnurny94@wikia.com|United Kingdom|18nNxGMaqhqrt4sZs...|                solo|633485725371257407|\n",
            "|345|   Thedric|           Costen|   tcosten9k@unc.edu|United Kingdom|17AGnU1HVmvAt8gwZ...|                 jcb|  3529003303335087|\n",
            "|390|  Latashia|            Blyde| lblydeat@senate.gov|United Kingdom|1FpFASo8TTHYuefzy...|                 jcb|  3547248774351349|\n",
            "|414|  Jessalin|          Gammons|jgammonsbh@goo.ne.jp|United Kingdom|14mRf7cFYsFjerWYs...|                 jcb|  3551724694519119|\n",
            "|482|     Vevay|           Claris|   vclarisdd@aol.com|United Kingdom|1477584qcLw6e2Tnt...|       visa-electron|  4405875597637592|\n",
            "|508|   Cecilio|      Saltsberger|csaltsbergere3@ne...|United Kingdom|1N4UFev4krTiWmC1S...|              switch|675954161233512792|\n",
            "|548|     Lissy|Featherstonehaugh|lfeatherstonehaug...|United Kingdom|1482bkXGupDD66ypo...|              switch|  5641828546046549|\n",
            "|582|   Loralyn|          Sneezum|lsneezumg5@virgin...|United Kingdom|18rq3Gymm7G1gaSLa...|          mastercard|  5302169147139056|\n",
            "|601|      Poul|            Kyncl|pkynclgo@miibeian...|United Kingdom|14GghoTqBDngp1V9P...|                 jcb|  3573360303922594|\n",
            "+---+----------+-----------------+--------------------+--------------+--------------------+--------------------+------------------+\n",
            "only showing top 20 rows\n",
            "\n"
          ]
        },
        {
          "output_type": "display_data",
          "data": {
            "text/plain": [
              "DataFrame[log_date: string, status: string, log_text: string, row_count: int]"
            ]
          },
          "metadata": {}
        }
      ]
    },
    {
      "cell_type": "code",
      "source": [
        "# selecting required columns\n",
        "\n",
        "final_ds = r3.select('email','country','bitcoin_address','credit_card_type')\n",
        "final_ds.show()"
      ],
      "metadata": {
        "colab": {
          "base_uri": "https://localhost:8080/"
        },
        "id": "3miCL_-F-qAR",
        "outputId": "dd104f43-9a0f-4f46-dc42-2d31a800b01f"
      },
      "execution_count": 86,
      "outputs": [
        {
          "output_type": "stream",
          "name": "stdout",
          "text": [
            "+--------------------+--------------+--------------------+--------------------+\n",
            "|               email|       country|     bitcoin_address|    credit_card_type|\n",
            "+--------------------+--------------+--------------------+--------------------+\n",
            "|rdrinanh@odnoklas...|United Kingdom|1ErM8yuF3ytzzxLy1...|      china-unionpay|\n",
            "|wbamfordv@t-onlin...|United Kingdom|12sxmYnPcADAXw1Yk...|             maestro|\n",
            "|swestallw@blinkli...|United Kingdom|1GZ7QB7GUFSWnkBHm...|          mastercard|\n",
            "|erosengrenx@usato...|United Kingdom|12o8zrHx6snCPbtko...|       visa-electron|\n",
            "|lbeavors1u@techno...|United Kingdom|12ya1ED93ApPBQRSC...|            bankcard|\n",
            "|fdresse1x@bloglin...|United Kingdom|1F8zXTEaf4AFpztMN...|          mastercard|\n",
            "|aeplate2i@webeden...|United Kingdom|19MZSy1H8S4SaXsmS...|diners-club-carte...|\n",
            "|awissbey4w@geocit...|United Kingdom|1AJzqEgbbFh2TNLFZ...|     americanexpress|\n",
            "|  pvolette5g@ask.com|United Kingdom|1Q6UV84patYXfzEdA...| diners-club-enroute|\n",
            "|esurcombe5i@bigca...|United Kingdom|1GYuD7hkkRkCeVcx9...|                 jcb|\n",
            "|lmacaskie85@sina....|United Kingdom|1DNGHS7oy3K38Anzd...|             maestro|\n",
            "|  mnurny94@wikia.com|United Kingdom|18nNxGMaqhqrt4sZs...|                solo|\n",
            "|   tcosten9k@unc.edu|United Kingdom|17AGnU1HVmvAt8gwZ...|                 jcb|\n",
            "| lblydeat@senate.gov|United Kingdom|1FpFASo8TTHYuefzy...|                 jcb|\n",
            "|jgammonsbh@goo.ne.jp|United Kingdom|14mRf7cFYsFjerWYs...|                 jcb|\n",
            "|   vclarisdd@aol.com|United Kingdom|1477584qcLw6e2Tnt...|       visa-electron|\n",
            "|csaltsbergere3@ne...|United Kingdom|1N4UFev4krTiWmC1S...|              switch|\n",
            "|lfeatherstonehaug...|United Kingdom|1482bkXGupDD66ypo...|              switch|\n",
            "|lsneezumg5@virgin...|United Kingdom|18rq3Gymm7G1gaSLa...|          mastercard|\n",
            "|pkynclgo@miibeian...|United Kingdom|14GghoTqBDngp1V9P...|                 jcb|\n",
            "+--------------------+--------------+--------------------+--------------------+\n",
            "only showing top 20 rows\n",
            "\n"
          ]
        }
      ]
    }
  ]
}